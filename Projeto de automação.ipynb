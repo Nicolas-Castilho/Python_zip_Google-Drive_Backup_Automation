{
 "cells": [
  {
   "cell_type": "code",
   "execution_count": 2,
   "id": "27a79c4c",
   "metadata": {},
   "outputs": [
    {
     "name": "stdout",
     "output_type": "stream",
     "text": [
      "Digite o diretório dos dados:\\Users\\valda\\OneDrive\\Desktop\\dados\n",
      "Digite o diretório do backup:\\Users\\valda\\OneDrive\\Desktop\\backup\n"
     ]
    }
   ],
   "source": [
    "import os\n",
    "import pyperclip \n",
    "import pyautogui\n",
    "import time\n",
    "import datetime\n",
    "import zipfile\n",
    "\n",
    "#método para pegar data atual\n",
    "date = datetime.date.today()\n",
    "\n",
    "#método para verificar se a pasta de dados existe\n",
    "while True:\n",
    "    d = input(\"Digite o diretório dos dados:\")\n",
    "    dados = d.replace(\"'\\'\",'/')\n",
    "    if not os.path.exists(dados)!=True:\n",
    "        break\n",
    "\n",
    "#método para verificar se o diretório de backup existe e ir para ele\n",
    "while True:\n",
    "    b = input(\"Digite o diretório do backup:\")\n",
    "    backup = b.replace(\"'\\'\",'/')\n",
    "    if not os.path.exists(backup)!=True:\n",
    "        break\n",
    "        \n",
    "#Indo para o diretório de backup e criando o arquivo .zip\n",
    "os.chdir(backup)\n",
    "zipy = zipfile.ZipFile('backup{}.zip'.format(date), 'w')\n",
    " \n",
    "for folder, subfolders, files in os.walk(dados):\n",
    "    for file in files:\n",
    "            zipy.write(os.path.join(folder, file), os.path.relpath(os.path.join(folder,file), dados), compress_type = zipfile.ZIP_DEFLATED)\n",
    "zipy.close()\n",
    "\n",
    "#Abrir o google drive\n",
    "pyautogui.hotkey(\"ctrl\",\"t\")\n",
    "pyperclip.copy(\"https://drive.google.com/drive/u/0/my-drive\")\n",
    "pyautogui.hotkey(\"ctrl\",\"v\")\n",
    "pyautogui.press(\"enter\")\n",
    "\n",
    "#Acessando a pasta de backup do drive\n",
    "time.sleep(2)\n",
    "pyautogui.click(x=402, y=509, clicks = 2)\n",
    "\n",
    "#Acessando os comandos do google drive\n",
    "time.sleep(2)\n",
    "pyautogui.click(x=76, y=167, clicks = 1)\n",
    "\n",
    "#Escolhendo a opção de envio de arquivos\n",
    "time.sleep(2)\n",
    "pyautogui.click(x=142, y=224, clicks = 1)\n",
    "\n",
    "#Selecionando o arquivo .zip para ser feito o upload\n",
    "time.sleep(2)\n",
    "pyautogui.click(x=352, y=59, clicks = 1)\n",
    "time.sleep(2)\n",
    "pyperclip.copy(backup)\n",
    "pyautogui.hotkey(\"ctrl\",\"v\")\n",
    "pyautogui.press(\"enter\")\n",
    "\n",
    "#Selecionando os arquivos\n",
    "pyautogui.click(x=177, y=225, clicks = 1)\n",
    "pyautogui.hotkey(\"ctrl\",\"a\")\n",
    "\n",
    "#Enviando os arquivos\n",
    "pyautogui.press(\"enter\")\n"
   ]
  },
  {
   "cell_type": "code",
   "execution_count": null,
   "id": "6c51f79c",
   "metadata": {},
   "outputs": [],
   "source": []
  }
 ],
 "metadata": {
  "kernelspec": {
   "display_name": "Python 3 (ipykernel)",
   "language": "python",
   "name": "python3"
  },
  "language_info": {
   "codemirror_mode": {
    "name": "ipython",
    "version": 3
   },
   "file_extension": ".py",
   "mimetype": "text/x-python",
   "name": "python",
   "nbconvert_exporter": "python",
   "pygments_lexer": "ipython3",
   "version": "3.9.12"
  }
 },
 "nbformat": 4,
 "nbformat_minor": 5
}
